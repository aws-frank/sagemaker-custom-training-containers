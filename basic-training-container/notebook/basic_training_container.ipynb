{
 "cells": [
  {
   "cell_type": "markdown",
   "metadata": {},
   "source": [
    "<h1>Basic Custom Training Container</h1>"
   ]
  },
  {
   "cell_type": "markdown",
   "metadata": {},
   "source": [
    "This notebook demonstrates how to build and use a basic custom Docker container for training with Amazon SageMaker. Reference documentation is available at https://docs.aws.amazon.com/sagemaker/latest/dg/your-algorithms-training-algo.html"
   ]
  },
  {
   "cell_type": "markdown",
   "metadata": {},
   "source": [
    "We start by defining some variables like the current execution role, the ECR repository that we are going to use for pushing the custom Docker container and a default Amazon S3 bucket to be used by Amazon SageMaker."
   ]
  },
  {
   "cell_type": "code",
   "execution_count": 16,
   "metadata": {},
   "outputs": [
    {
     "name": "stdout",
     "output_type": "stream",
     "text": [
      "825935527263\n",
      "eu-west-1\n",
      "arn:aws:iam::825935527263:role/service-role/AmazonSageMaker-ExecutionRole-endtoendml\n",
      "sagemaker-eu-west-1-825935527263\n"
     ]
    }
   ],
   "source": [
    "import boto3\n",
    "import sagemaker\n",
    "from sagemaker import get_execution_role\n",
    "\n",
    "ecr_namespace = 'gianpo-ecr/'\n",
    "prefix = 'basic-training-container'\n",
    "\n",
    "ecr_repository_name = ecr_namespace + prefix\n",
    "role = get_execution_role()\n",
    "account_id = role.split(':')[4]\n",
    "region = boto3.Session().region_name\n",
    "sagemaker_session = sagemaker.session.Session()\n",
    "bucket = sagemaker_session.default_bucket()\n",
    "\n",
    "print(account_id)\n",
    "print(region)\n",
    "print(role)\n",
    "print(bucket)"
   ]
  },
  {
   "cell_type": "markdown",
   "metadata": {},
   "source": [
    "Let's take a look at the Dockerfile which defines the statements for building our custom SageMaker training container:"
   ]
  },
  {
   "cell_type": "code",
   "execution_count": 17,
   "metadata": {},
   "outputs": [
    {
     "name": "stdout",
     "output_type": "stream",
     "text": [
      "\u001b[34mFROM\u001b[39;49;00m\u001b[33m ubuntu:16.04\u001b[39;49;00m\n",
      "\n",
      "LABEL \u001b[31mmaintainer\u001b[39;49;00m=\u001b[33m\"Amazon AI\"\u001b[39;49;00m\n",
      "\n",
      "\u001b[37m# Defining some variables used at build time to install Python3\u001b[39;49;00m\n",
      "ARG \u001b[31mPYTHON\u001b[39;49;00m=python3\n",
      "ARG \u001b[31mPYTHON_PIP\u001b[39;49;00m=python3-pip\n",
      "ARG \u001b[31mPIP\u001b[39;49;00m=pip3\n",
      "ARG \u001b[31mPYTHON_VERSION\u001b[39;49;00m=\u001b[34m3\u001b[39;49;00m.6.6\n",
      "\n",
      "\u001b[37m# Install some handful libraries like curl, wget, git, build-essential, zlib\u001b[39;49;00m\n",
      "\u001b[34mRUN\u001b[39;49;00m apt-get update && apt-get install -y --no-install-recommends software-properties-common && \u001b[33m\\\u001b[39;49;00m\n",
      "    add-apt-repository ppa:deadsnakes/ppa -y && \u001b[33m\\\u001b[39;49;00m\n",
      "    apt-get update && apt-get install -y --no-install-recommends \u001b[33m\\\u001b[39;49;00m\n",
      "        build-essential \u001b[33m\\\u001b[39;49;00m\n",
      "        ca-certificates \u001b[33m\\\u001b[39;49;00m\n",
      "        curl \u001b[33m\\\u001b[39;49;00m\n",
      "        wget \u001b[33m\\\u001b[39;49;00m\n",
      "        git \u001b[33m\\\u001b[39;49;00m\n",
      "        libopencv-dev \u001b[33m\\\u001b[39;49;00m\n",
      "        openssh-client \u001b[33m\\\u001b[39;49;00m\n",
      "        openssh-server \u001b[33m\\\u001b[39;49;00m\n",
      "        vim \u001b[33m\\\u001b[39;49;00m\n",
      "        zlib1g-dev && \u001b[33m\\\u001b[39;49;00m\n",
      "    rm -rf /var/lib/apt/lists/*\n",
      "\n",
      "\u001b[37m# Installing Python3\u001b[39;49;00m\n",
      "\u001b[34mRUN\u001b[39;49;00m wget https://www.python.org/ftp/python/\u001b[31m$PYTHON_VERSION\u001b[39;49;00m/Python-\u001b[31m$PYTHON_VERSION\u001b[39;49;00m.tgz && \u001b[33m\\\u001b[39;49;00m\n",
      "        tar -xvf Python-\u001b[31m$PYTHON_VERSION\u001b[39;49;00m.tgz && \u001b[36mcd\u001b[39;49;00m Python-\u001b[31m$PYTHON_VERSION\u001b[39;49;00m && \u001b[33m\\\u001b[39;49;00m\n",
      "        ./configure && make && make install && \u001b[33m\\\u001b[39;49;00m\n",
      "        apt-get update && apt-get install -y --no-install-recommends libreadline-gplv2-dev libncursesw5-dev libssl-dev libsqlite3-dev tk-dev libgdbm-dev libc6-dev libbz2-dev && \u001b[33m\\\u001b[39;49;00m\n",
      "        make && make install && rm -rf ../Python-\u001b[31m$PYTHON_VERSION\u001b[39;49;00m* && \u001b[33m\\\u001b[39;49;00m\n",
      "        ln -s /usr/local/bin/pip3 /usr/bin/pip\n",
      "\n",
      "\u001b[37m# Upgrading pip and creating symbolic link for python3\u001b[39;49;00m\n",
      "\u001b[34mRUN\u001b[39;49;00m \u001b[33m${\u001b[39;49;00m\u001b[31mPIP\u001b[39;49;00m\u001b[33m}\u001b[39;49;00m --no-cache-dir install --upgrade pip\n",
      "\u001b[34mRUN\u001b[39;49;00m ln -s \u001b[34m$(\u001b[39;49;00mwhich \u001b[33m${\u001b[39;49;00m\u001b[31mPYTHON\u001b[39;49;00m\u001b[33m}\u001b[39;49;00m\u001b[34m)\u001b[39;49;00m /usr/local/bin/python\n",
      "\n",
      "\u001b[34mWORKDIR\u001b[39;49;00m\u001b[33m /\u001b[39;49;00m\n",
      "\n",
      "\u001b[37m# Installing numpy, pandas, scikit-learn, scipy\u001b[39;49;00m\n",
      "\u001b[34mRUN\u001b[39;49;00m \u001b[33m${\u001b[39;49;00m\u001b[31mPIP\u001b[39;49;00m\u001b[33m}\u001b[39;49;00m install --no-cache --upgrade \u001b[33m\\\u001b[39;49;00m\n",
      "        \u001b[31mnumpy\u001b[39;49;00m==\u001b[34m1\u001b[39;49;00m.14.5 \u001b[33m\\\u001b[39;49;00m\n",
      "        \u001b[31mpandas\u001b[39;49;00m==\u001b[34m0\u001b[39;49;00m.24.1 \u001b[33m\\\u001b[39;49;00m\n",
      "        scikit-learn==\u001b[34m0\u001b[39;49;00m.20.3 \u001b[33m\\\u001b[39;49;00m\n",
      "        \u001b[31mrequests\u001b[39;49;00m==\u001b[34m2\u001b[39;49;00m.21.0 \u001b[33m\\\u001b[39;49;00m\n",
      "        \u001b[31mscipy\u001b[39;49;00m==\u001b[34m1\u001b[39;49;00m.2.1\n",
      "\n",
      "\u001b[37m# Setting some environment variables.\u001b[39;49;00m\n",
      "\u001b[34mENV\u001b[39;49;00m\u001b[33m PYTHONDONTWRITEBYTECODE=1 \\\u001b[39;49;00m\n",
      "    \u001b[31mPYTHONUNBUFFERED\u001b[39;49;00m=\u001b[34m1\u001b[39;49;00m \u001b[33m\\\u001b[39;49;00m\n",
      "    \u001b[31mLD_LIBRARY_PATH\u001b[39;49;00m=\u001b[33m\"\u001b[39;49;00m\u001b[33m${\u001b[39;49;00m\u001b[31mLD_LIBRARY_PATH\u001b[39;49;00m\u001b[33m}\u001b[39;49;00m\u001b[33m:/usr/local/lib\u001b[39;49;00m\u001b[33m\"\u001b[39;49;00m \u001b[33m\\\u001b[39;49;00m\n",
      "    \u001b[31mPYTHONIOENCODING\u001b[39;49;00m=UTF-8 \u001b[33m\\\u001b[39;49;00m\n",
      "    \u001b[31mLANG\u001b[39;49;00m=C.UTF-8 \u001b[33m\\\u001b[39;49;00m\n",
      "    \u001b[31mLC_ALL\u001b[39;49;00m=C.UTF-8\n",
      "\n",
      "COPY code/* /\n",
      "\n",
      "\u001b[34mENTRYPOINT\u001b[39;49;00m\u001b[33m [\"python\", \"main.py\"]\u001b[39;49;00m\n"
     ]
    }
   ],
   "source": [
    "! pygmentize ../docker/Dockerfile"
   ]
  },
  {
   "cell_type": "markdown",
   "metadata": {},
   "source": [
    "At high-level the Dockerfile specifies the following operations for building this container:\n",
    "<ul>\n",
    "    <li>Start from Ubuntu 16.04</li>\n",
    "    <li>Define some variables to be used at build time to install Python 3</li>\n",
    "    <li>Some handful libraries are installed with apt-get</li>\n",
    "    <li>We then install Python 3 and create a symbolic link</li>\n",
    "    <li>We install some Python libraries like numpy, pandas, ScikitLearn, etc.</li>\n",
    "    <li>We set e few environment variables, including PYTHONUNBUFFERED which is used to avoid buffering Python standard output (useful for logging)</li>\n",
    "    <li>Finally, we copy all contents in <strong>code/</strong> (which is where our training code is) to the WORKDIR and define the ENTRYPOINT</li>\n",
    "</ul>"
   ]
  },
  {
   "cell_type": "markdown",
   "metadata": {},
   "source": [
    "<h3>Build and push the container</h3>\n",
    "We are now ready to build this container and push it to Amazon ECR. This task is executed using a shell script stored in the ../script/ folder. Let's take a look at this script and then execute it."
   ]
  },
  {
   "cell_type": "code",
   "execution_count": 18,
   "metadata": {},
   "outputs": [
    {
     "name": "stdout",
     "output_type": "stream",
     "text": [
      "\u001b[31mACCOUNT_ID\u001b[39;49;00m=\u001b[31m$1\u001b[39;49;00m\n",
      "\u001b[31mREGION\u001b[39;49;00m=\u001b[31m$2\u001b[39;49;00m\n",
      "\u001b[31mREPO_NAME\u001b[39;49;00m=\u001b[31m$3\u001b[39;49;00m\n",
      "\n",
      "docker build -f ../docker/Dockerfile -t \u001b[31m$REPO_NAME\u001b[39;49;00m ../docker\n",
      "\n",
      "docker tag \u001b[31m$REPO_NAME\u001b[39;49;00m \u001b[31m$ACCOUNT_ID\u001b[39;49;00m.dkr.ecr.\u001b[31m$REGION\u001b[39;49;00m.amazonaws.com/\u001b[31m$REPO_NAME\u001b[39;49;00m:latest\n",
      "\n",
      "\u001b[34m$(\u001b[39;49;00maws ecr get-login --no-include-email --registry-ids \u001b[31m$ACCOUNT_ID\u001b[39;49;00m\u001b[34m)\u001b[39;49;00m\n",
      "\n",
      "aws ecr describe-repositories --repository-names \u001b[31m$REPO_NAME\u001b[39;49;00m || aws ecr create-repository --repository-name \u001b[31m$REPO_NAME\u001b[39;49;00m\n",
      "\n",
      "docker push \u001b[31m$ACCOUNT_ID\u001b[39;49;00m.dkr.ecr.\u001b[31m$REGION\u001b[39;49;00m.amazonaws.com/\u001b[31m$REPO_NAME\u001b[39;49;00m:latest\n"
     ]
    }
   ],
   "source": [
    "! pygmentize ../scripts/build_and_push.sh"
   ]
  },
  {
   "cell_type": "markdown",
   "metadata": {},
   "source": [
    "<h3>--------------------------------------------------------------------------------------------------------------------</h3>\n",
    "\n",
    "The script builds the Docker container, then creates the repository if it does not exist, and finally pushes the container to the ECR repository. The build task requires a few minutes to be executed the first time, then Docker caches build outputs to be reused for the subsequent build operations."
   ]
  },
  {
   "cell_type": "code",
   "execution_count": 19,
   "metadata": {},
   "outputs": [
    {
     "name": "stdout",
     "output_type": "stream",
     "text": [
      "Sending build context to Docker daemon  19.97kB\n",
      "Step 1/15 : FROM ubuntu:16.04\n",
      " ---> b9409899fe86\n",
      "Step 2/15 : LABEL maintainer=\"Amazon AI\"\n",
      " ---> Using cache\n",
      " ---> bab228941513\n",
      "Step 3/15 : ARG PYTHON=python3\n",
      " ---> Using cache\n",
      " ---> 753bc9f6b601\n",
      "Step 4/15 : ARG PYTHON_PIP=python3-pip\n",
      " ---> Using cache\n",
      " ---> 1d2afc099c45\n",
      "Step 5/15 : ARG PIP=pip3\n",
      " ---> Using cache\n",
      " ---> 4637544f83e5\n",
      "Step 6/15 : ARG PYTHON_VERSION=3.6.6\n",
      " ---> Using cache\n",
      " ---> f16297f44d34\n",
      "Step 7/15 : RUN apt-get update && apt-get install -y --no-install-recommends software-properties-common &&     add-apt-repository ppa:deadsnakes/ppa -y &&     apt-get update && apt-get install -y --no-install-recommends         build-essential         ca-certificates         curl         wget         git         libopencv-dev         openssh-client         openssh-server         vim         zlib1g-dev &&     rm -rf /var/lib/apt/lists/*\n",
      " ---> Using cache\n",
      " ---> a2784e936cf9\n",
      "Step 8/15 : RUN wget https://www.python.org/ftp/python/$PYTHON_VERSION/Python-$PYTHON_VERSION.tgz &&         tar -xvf Python-$PYTHON_VERSION.tgz && cd Python-$PYTHON_VERSION &&         ./configure && make && make install &&         apt-get update && apt-get install -y --no-install-recommends libreadline-gplv2-dev libncursesw5-dev libssl-dev libsqlite3-dev tk-dev libgdbm-dev libc6-dev libbz2-dev &&         make && make install && rm -rf ../Python-$PYTHON_VERSION* &&         ln -s /usr/local/bin/pip3 /usr/bin/pip\n",
      " ---> Using cache\n",
      " ---> 13aa2435ce12\n",
      "Step 9/15 : RUN ${PIP} --no-cache-dir install --upgrade pip\n",
      " ---> Using cache\n",
      " ---> 98bb32ff97cc\n",
      "Step 10/15 : RUN ln -s $(which ${PYTHON}) /usr/local/bin/python\n",
      " ---> Using cache\n",
      " ---> 21f7e15904d2\n",
      "Step 11/15 : WORKDIR /\n",
      " ---> Using cache\n",
      " ---> 15258349a3a5\n",
      "Step 12/15 : RUN ${PIP} install --no-cache --upgrade         numpy==1.14.5         pandas==0.24.1         scikit-learn==0.20.3         requests==2.21.0         scipy==1.2.1\n",
      " ---> Using cache\n",
      " ---> 50337964ce9c\n",
      "Step 13/15 : ENV PYTHONDONTWRITEBYTECODE=1     PYTHONUNBUFFERED=1     LD_LIBRARY_PATH=\"${LD_LIBRARY_PATH}:/usr/local/lib\"     PYTHONIOENCODING=UTF-8     LANG=C.UTF-8     LC_ALL=C.UTF-8\n",
      " ---> Using cache\n",
      " ---> 81ebf4c07404\n",
      "Step 14/15 : COPY code/* /\n",
      " ---> Using cache\n",
      " ---> 51d8fee10a18\n",
      "Step 15/15 : ENTRYPOINT [\"python\", \"main.py\"]\n",
      " ---> Using cache\n",
      " ---> ee6d786ef69d\n",
      "Successfully built ee6d786ef69d\n",
      "Successfully tagged gianpo-ecr/basic-training-container:latest\n",
      "WARNING! Using --password via the CLI is insecure. Use --password-stdin.\n",
      "WARNING! Your password will be stored unencrypted in /home/ec2-user/.docker/config.json.\n",
      "Configure a credential helper to remove this warning. See\n",
      "https://docs.docker.com/engine/reference/commandline/login/#credentials-store\n",
      "\n",
      "Login Succeeded\n",
      "{\n",
      "    \"repositories\": [\n",
      "        {\n",
      "            \"repositoryArn\": \"arn:aws:ecr:eu-west-1:825935527263:repository/gianpo-ecr/basic-training-container\",\n",
      "            \"registryId\": \"825935527263\",\n",
      "            \"repositoryName\": \"gianpo-ecr/basic-training-container\",\n",
      "            \"repositoryUri\": \"825935527263.dkr.ecr.eu-west-1.amazonaws.com/gianpo-ecr/basic-training-container\",\n",
      "            \"createdAt\": 1571825076.0,\n",
      "            \"imageTagMutability\": \"MUTABLE\"\n",
      "        }\n",
      "    ]\n",
      "}\n",
      "The push refers to repository [825935527263.dkr.ecr.eu-west-1.amazonaws.com/gianpo-ecr/basic-training-container]\n",
      "\n",
      "\u001b[1Bce1e4d71: Preparing \n",
      "\u001b[1Be23e8f79: Preparing \n",
      "\u001b[1B36e921fa: Preparing \n",
      "\u001b[1B6df72fd8: Preparing \n",
      "\u001b[1Bf4414656: Preparing \n",
      "\u001b[1B19f30d7a: Preparing \n",
      "\u001b[1B13a20bf2: Preparing \n",
      "\u001b[1Bcdf4e497: Preparing \n",
      "\u001b[1B3f9454c0: Preparing \n",
      "\u001b[1B6b5893dc: Layer already exists \u001b[8A\u001b[1K\u001b[K\u001b[2A\u001b[1K\u001b[Klatest: digest: sha256:b0c44fe411e0c8d21e7dbe3393803da608a2829be4bef66f18146d8d15da9bf8 size: 2413\n"
     ]
    }
   ],
   "source": [
    "! ../scripts/build_and_push.sh $account_id $region $ecr_repository_name"
   ]
  },
  {
   "cell_type": "markdown",
   "metadata": {},
   "source": [
    "<h3>Training with Amazon SageMaker</h3>\n",
    "\n",
    "Once we have correctly pushed our container to Amazon ECR, we are ready to start training with Amazon SageMaker, which requires the ECR path to the Docker container used for training as parameter for starting a training job."
   ]
  },
  {
   "cell_type": "code",
   "execution_count": 20,
   "metadata": {},
   "outputs": [
    {
     "name": "stdout",
     "output_type": "stream",
     "text": [
      "825935527263.dkr.ecr.eu-west-1.amazonaws.com/gianpo-ecr/basic-training-container:latest\n"
     ]
    }
   ],
   "source": [
    "container_image_uri = '{0}.dkr.ecr.{1}.amazonaws.com/{2}:latest'.format(account_id, region, ecr_repository_name)\n",
    "print(container_image_uri)"
   ]
  },
  {
   "cell_type": "markdown",
   "metadata": {},
   "source": [
    "Given the purpose of this example is explaining how to build custom containers, we are not going to train a real model. The script that will be executed does not define a specific training logic; it just outputs the configurations injected by SageMaker and implements a dummy training loop. Training data is also dummy. Let's analyze the code first:"
   ]
  },
  {
   "cell_type": "code",
   "execution_count": 21,
   "metadata": {},
   "outputs": [
    {
     "name": "stdout",
     "output_type": "stream",
     "text": [
      "\u001b[34mfrom\u001b[39;49;00m \u001b[04m\u001b[36m__future__\u001b[39;49;00m \u001b[34mimport\u001b[39;49;00m absolute_import\n",
      "\n",
      "\u001b[34mimport\u001b[39;49;00m \u001b[04m\u001b[36msys\u001b[39;49;00m\n",
      "\u001b[34mimport\u001b[39;49;00m \u001b[04m\u001b[36mtime\u001b[39;49;00m\n",
      "\u001b[34mimport\u001b[39;49;00m \u001b[04m\u001b[36mos\u001b[39;49;00m\n",
      "\n",
      "\u001b[34mfrom\u001b[39;49;00m \u001b[04m\u001b[36mutils\u001b[39;49;00m \u001b[34mimport\u001b[39;49;00m ExitSignalHandler\n",
      "\u001b[34mfrom\u001b[39;49;00m \u001b[04m\u001b[36mutils\u001b[39;49;00m \u001b[34mimport\u001b[39;49;00m write_failure_file, print_json_object, load_json_object, save_model_artifacts, print_files_in_path\n",
      "\n",
      "hyperparameters_file_path = \u001b[33m\"\u001b[39;49;00m\u001b[33m/opt/ml/input/config/hyperparameters.json\u001b[39;49;00m\u001b[33m\"\u001b[39;49;00m\n",
      "inputdataconfig_file_path = \u001b[33m\"\u001b[39;49;00m\u001b[33m/opt/ml/input/config/inputdataconfig.json\u001b[39;49;00m\u001b[33m\"\u001b[39;49;00m\n",
      "resource_file_path = \u001b[33m\"\u001b[39;49;00m\u001b[33m/opt/ml/input/config/resourceconfig.json\u001b[39;49;00m\u001b[33m\"\u001b[39;49;00m\n",
      "data_files_path = \u001b[33m\"\u001b[39;49;00m\u001b[33m/opt/ml/input/data/\u001b[39;49;00m\u001b[33m\"\u001b[39;49;00m\n",
      "failure_file_path = \u001b[33m\"\u001b[39;49;00m\u001b[33m/opt/ml/output/failure\u001b[39;49;00m\u001b[33m\"\u001b[39;49;00m\n",
      "model_artifacts_path = \u001b[33m\"\u001b[39;49;00m\u001b[33m/opt/ml/model/\u001b[39;49;00m\u001b[33m\"\u001b[39;49;00m\n",
      "\n",
      "training_job_name_env = \u001b[33m\"\u001b[39;49;00m\u001b[33mTRAINING_JOB_NAME\u001b[39;49;00m\u001b[33m\"\u001b[39;49;00m\n",
      "training_job_arn_env = \u001b[33m\"\u001b[39;49;00m\u001b[33mTRAINING_JOB_ARN\u001b[39;49;00m\u001b[33m\"\u001b[39;49;00m\n",
      "\n",
      "\u001b[34mdef\u001b[39;49;00m \u001b[32mtrain\u001b[39;49;00m():\n",
      "    \u001b[34mtry\u001b[39;49;00m:\n",
      "        \u001b[34mprint\u001b[39;49;00m(\u001b[33m\"\u001b[39;49;00m\u001b[33m\\n\u001b[39;49;00m\u001b[33mRunning training...\u001b[39;49;00m\u001b[33m\"\u001b[39;49;00m)\n",
      "        \n",
      "        \u001b[34mif\u001b[39;49;00m os.path.exists(hyperparameters_file_path):\n",
      "            hyperparameters = load_json_object(hyperparameters_file_path)\n",
      "            \u001b[34mprint\u001b[39;49;00m(\u001b[33m'\u001b[39;49;00m\u001b[33m\\n\u001b[39;49;00m\u001b[33mHyperparameters configuration:\u001b[39;49;00m\u001b[33m'\u001b[39;49;00m)\n",
      "            print_json_object(hyperparameters)\n",
      "        \n",
      "        \u001b[34mif\u001b[39;49;00m os.path.exists(inputdataconfig_file_path):\n",
      "            input_data_config = load_json_object(inputdataconfig_file_path)\n",
      "            \u001b[34mprint\u001b[39;49;00m(\u001b[33m'\u001b[39;49;00m\u001b[33m\\n\u001b[39;49;00m\u001b[33mInput data configuration:\u001b[39;49;00m\u001b[33m'\u001b[39;49;00m)\n",
      "            print_json_object(input_data_config)\n",
      "            \n",
      "            \u001b[34mfor\u001b[39;49;00m key \u001b[35min\u001b[39;49;00m input_data_config:\n",
      "                \u001b[34mprint\u001b[39;49;00m(\u001b[33m'\u001b[39;49;00m\u001b[33m\\n\u001b[39;49;00m\u001b[33mList of files in {0} channel: \u001b[39;49;00m\u001b[33m'\u001b[39;49;00m.format(key))\n",
      "                channel_path = data_files_path + key + \u001b[33m'\u001b[39;49;00m\u001b[33m/\u001b[39;49;00m\u001b[33m'\u001b[39;49;00m\n",
      "                print_files_in_path(channel_path)\n",
      "        \n",
      "        \u001b[34mif\u001b[39;49;00m os.path.exists(resource_file_path):\n",
      "            resource_config = load_json_object(resource_file_path)\n",
      "            \u001b[34mprint\u001b[39;49;00m(\u001b[33m'\u001b[39;49;00m\u001b[33m\\n\u001b[39;49;00m\u001b[33mResource configuration:\u001b[39;49;00m\u001b[33m'\u001b[39;49;00m)\n",
      "            print_json_object(resource_config)\n",
      "            \n",
      "        \u001b[34mif\u001b[39;49;00m (training_job_name_env \u001b[35min\u001b[39;49;00m os.environ):\n",
      "            \u001b[34mprint\u001b[39;49;00m(\u001b[33m\"\u001b[39;49;00m\u001b[33m\\n\u001b[39;49;00m\u001b[33mTraining job name: \u001b[39;49;00m\u001b[33m\"\u001b[39;49;00m)\n",
      "            \u001b[34mprint\u001b[39;49;00m(os.environ[training_job_name_env])\n",
      "        \n",
      "        \u001b[34mif\u001b[39;49;00m (training_job_arn_env \u001b[35min\u001b[39;49;00m os.environ):\n",
      "            \u001b[34mprint\u001b[39;49;00m(\u001b[33m\"\u001b[39;49;00m\u001b[33m\\n\u001b[39;49;00m\u001b[33mTraining job ARN: \u001b[39;49;00m\u001b[33m\"\u001b[39;49;00m)\n",
      "            \u001b[34mprint\u001b[39;49;00m(os.environ[training_job_arn_env])\n",
      "            \n",
      "        \u001b[37m# This object is used to handle SIGTERM and SIGKILL signals.\u001b[39;49;00m\n",
      "        signal_handler = ExitSignalHandler()\n",
      "        \n",
      "        \u001b[37m# Dummy net.\u001b[39;49;00m\n",
      "        net = \u001b[36mNone\u001b[39;49;00m\n",
      "        \n",
      "        \u001b[37m# Run training loop.\u001b[39;49;00m\n",
      "        epochs = \u001b[34m5\u001b[39;49;00m\n",
      "        \u001b[34mfor\u001b[39;49;00m x \u001b[35min\u001b[39;49;00m \u001b[36mrange\u001b[39;49;00m(epochs):\n",
      "            \u001b[34mprint\u001b[39;49;00m(\u001b[33m\"\u001b[39;49;00m\u001b[33m\\n\u001b[39;49;00m\u001b[33mRunning epoch {0}...\u001b[39;49;00m\u001b[33m\"\u001b[39;49;00m.format(x))\n",
      "\n",
      "            time.sleep(\u001b[34m30\u001b[39;49;00m)\n",
      "            \n",
      "            \u001b[34mif\u001b[39;49;00m (signal_handler.exit_now):\n",
      "                \u001b[34mprint\u001b[39;49;00m(\u001b[33m\"\u001b[39;49;00m\u001b[33mReceived SIGTERM/SIGINT. Saving training state and exiting.\u001b[39;49;00m\u001b[33m\"\u001b[39;49;00m)\n",
      "                \u001b[37m# Save state here.\u001b[39;49;00m\n",
      "                save_model_artifacts(model_artifacts_path, net)\n",
      "                sys.exit(\u001b[34m0\u001b[39;49;00m)\n",
      "\n",
      "            \u001b[34mprint\u001b[39;49;00m(\u001b[33m\"\u001b[39;49;00m\u001b[33mCompleted epoch {0}.\u001b[39;49;00m\u001b[33m\"\u001b[39;49;00m.format(x))\n",
      "        \n",
      "        \u001b[37m# At the end of the training loop, we have to save model artifacts.\u001b[39;49;00m\n",
      "        save_model_artifacts(model_artifacts_path, net)\n",
      "        \n",
      "        \u001b[34mprint\u001b[39;49;00m(\u001b[33m\"\u001b[39;49;00m\u001b[33m\\n\u001b[39;49;00m\u001b[33mTraining completed!\u001b[39;49;00m\u001b[33m\"\u001b[39;49;00m)\n",
      "    \u001b[34mexcept\u001b[39;49;00m \u001b[36mException\u001b[39;49;00m \u001b[34mas\u001b[39;49;00m e:\n",
      "        write_failure_file(failure_file_path, \u001b[36mstr\u001b[39;49;00m(e))\n",
      "        \u001b[34mprint\u001b[39;49;00m(e, \u001b[36mfile\u001b[39;49;00m=sys.stderr)\n",
      "        sys.exit(\u001b[34m1\u001b[39;49;00m)\n",
      "\n",
      "\u001b[34mif\u001b[39;49;00m \u001b[31m__name__\u001b[39;49;00m == \u001b[33m\"\u001b[39;49;00m\u001b[33m__main__\u001b[39;49;00m\u001b[33m\"\u001b[39;49;00m:\n",
      "    \u001b[34mif\u001b[39;49;00m (sys.argv[\u001b[34m1\u001b[39;49;00m] == \u001b[33m\"\u001b[39;49;00m\u001b[33mtrain\u001b[39;49;00m\u001b[33m\"\u001b[39;49;00m):\n",
      "        train()\n",
      "    \u001b[34melse\u001b[39;49;00m:\n",
      "        \u001b[34mprint\u001b[39;49;00m(\u001b[33m\"\u001b[39;49;00m\u001b[33mMissing required argument \u001b[39;49;00m\u001b[33m'\u001b[39;49;00m\u001b[33mtrain\u001b[39;49;00m\u001b[33m'\u001b[39;49;00m\u001b[33m.\u001b[39;49;00m\u001b[33m\"\u001b[39;49;00m, \u001b[36mfile\u001b[39;49;00m=sys.stderr)\n",
      "        sys.exit(\u001b[34m1\u001b[39;49;00m)\n"
     ]
    }
   ],
   "source": [
    "! pygmentize ../docker/code/main.py"
   ]
  },
  {
   "cell_type": "markdown",
   "metadata": {},
   "source": [
    "We upload some dummy data to Amazon S3, in order to define our S3-based training channels."
   ]
  },
  {
   "cell_type": "code",
   "execution_count": 29,
   "metadata": {},
   "outputs": [
    {
     "name": "stdout",
     "output_type": "stream",
     "text": [
      "s3://sagemaker-eu-west-1-825935527263/basic-training-container/train/dummy.csv\n",
      "s3://sagemaker-eu-west-1-825935527263/basic-training-container/val/dummy.csv\n"
     ]
    }
   ],
   "source": [
    "! echo \"val1, val2, val3\" > dummy.csv\n",
    "print(sagemaker_session.upload_data('dummy.csv', bucket, prefix + '/train'))\n",
    "print(sagemaker_session.upload_data('dummy.csv', bucket, prefix + '/val'))\n",
    "! rm dummy.csv"
   ]
  },
  {
   "cell_type": "markdown",
   "metadata": {},
   "source": [
    "Finally, we can execute the training job by calling the fit() method of the generic Estimator object defined in the Amazon SageMaker Python SDK (https://github.com/aws/sagemaker-python-sdk/blob/master/src/sagemaker/estimator.py). This corresponds to calling the CreateTrainingJob() API (https://docs.aws.amazon.com/sagemaker/latest/dg/API_CreateTrainingJob.html)."
   ]
  },
  {
   "cell_type": "code",
   "execution_count": 23,
   "metadata": {},
   "outputs": [
    {
     "name": "stdout",
     "output_type": "stream",
     "text": [
      "2019-10-24 14:29:56 Starting - Starting the training job...\n",
      "2019-10-24 14:29:57 Starting - Launching requested ML instances...\n",
      "2019-10-24 14:30:53 Starting - Preparing the instances for training...\n",
      "2019-10-24 14:31:26 Downloading - Downloading input data\n",
      "2019-10-24 14:31:26 Training - Downloading the training image.....\u001b[31mRunning training...\n",
      "\u001b[0m\n",
      "\u001b[31mHyperparameters configuration:\u001b[0m\n",
      "\u001b[31m{'hp1': 'value1', 'hp2': '300', 'hp3': '0.001'}\n",
      "\u001b[0m\n",
      "\u001b[31mInput data configuration:\u001b[0m\n",
      "\u001b[31m{'train': {'ContentType': 'text/csv',\n",
      "           'RecordWrapperType': 'None',\n",
      "           'S3DistributionType': 'FullyReplicated',\n",
      "           'TrainingInputMode': 'File'},\n",
      " 'validation': {'ContentType': 'text/csv',\n",
      "                'RecordWrapperType': 'None',\n",
      "                'S3DistributionType': 'FullyReplicated',\n",
      "                'TrainingInputMode': 'File'}}\n",
      "\u001b[0m\n",
      "\u001b[31mList of files in validation channel: \u001b[0m\n",
      "\u001b[31m/opt/ml/input/data/validation/dummy.csv\n",
      "\u001b[0m\n",
      "\u001b[31mList of files in train channel: \u001b[0m\n",
      "\u001b[31m/opt/ml/input/data/train/dummy.csv\n",
      "\u001b[0m\n",
      "\u001b[31mResource configuration:\u001b[0m\n",
      "\u001b[31m{'current_host': 'algo-1',\n",
      " 'hosts': ['algo-1'],\n",
      " 'network_interface_name': 'eth0'}\n",
      "\u001b[0m\n",
      "\u001b[31mTraining job name: \u001b[0m\n",
      "\u001b[31mbasic-training-container-2019-10-24-14-29-56-018\n",
      "\u001b[0m\n",
      "\u001b[31mTraining job ARN: \u001b[0m\n",
      "\u001b[31marn:aws:sagemaker:eu-west-1:825935527263:training-job/basic-training-container-2019-10-24-14-29-56-018\n",
      "\u001b[0m\n",
      "\u001b[31mRunning epoch 0...\u001b[0m\n",
      "\n",
      "2019-10-24 14:32:05 Training - Training image download completed. Training in progress.\u001b[31mCompleted epoch 0.\n",
      "\u001b[0m\n",
      "\u001b[31mRunning epoch 1...\u001b[0m\n",
      "\u001b[31mCompleted epoch 1.\n",
      "\u001b[0m\n",
      "\u001b[31mRunning epoch 2...\u001b[0m\n",
      "\u001b[31mCompleted epoch 2.\n",
      "\u001b[0m\n",
      "\u001b[31mRunning epoch 3...\u001b[0m\n",
      "\u001b[31mCompleted epoch 3.\n",
      "\u001b[0m\n",
      "\u001b[31mRunning epoch 4...\u001b[0m\n",
      "\u001b[31mCompleted epoch 4.\n",
      "\u001b[0m\n",
      "\u001b[31mTraining completed!\u001b[0m\n",
      "\n",
      "2019-10-24 14:34:42 Uploading - Uploading generated training model\n",
      "2019-10-24 14:34:42 Completed - Training job completed\n",
      "Training seconds: 202\n",
      "Billable seconds: 202\n"
     ]
    }
   ],
   "source": [
    "import sagemaker\n",
    "\n",
    "est = sagemaker.estimator.Estimator(container_image_uri,\n",
    "                                    role, \n",
    "                                    train_instance_count=1, \n",
    "                                    train_instance_type='ml.m5.xlarge',\n",
    "                                    base_job_name=prefix)\n",
    "\n",
    "est.set_hyperparameters(hp1='value1',\n",
    "                        hp2=300,\n",
    "                        hp3=0.001)\n",
    "\n",
    "train_config = sagemaker.session.s3_input('s3://{0}/{1}/train/'.format(bucket, prefix), content_type='text/csv')\n",
    "val_config = sagemaker.session.s3_input('s3://{0}/{1}/val/'.format(bucket, prefix), content_type='text/csv')\n",
    "\n",
    "est.fit({'train': train_config, 'validation': val_config })"
   ]
  },
  {
   "cell_type": "code",
   "execution_count": null,
   "metadata": {},
   "outputs": [],
   "source": []
  }
 ],
 "metadata": {
  "kernelspec": {
   "display_name": "conda_python3",
   "language": "python",
   "name": "conda_python3"
  },
  "language_info": {
   "codemirror_mode": {
    "name": "ipython",
    "version": 3
   },
   "file_extension": ".py",
   "mimetype": "text/x-python",
   "name": "python",
   "nbconvert_exporter": "python",
   "pygments_lexer": "ipython3",
   "version": "3.6.5"
  }
 },
 "nbformat": 4,
 "nbformat_minor": 4
}
